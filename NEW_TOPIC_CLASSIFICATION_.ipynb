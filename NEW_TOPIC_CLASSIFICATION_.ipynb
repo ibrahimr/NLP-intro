{
  "nbformat": 4,
  "nbformat_minor": 0,
  "metadata": {
    "colab": {
      "provenance": [],
      "authorship_tag": "ABX9TyMFGljaMnytR/y4SMIqLw/L",
      "include_colab_link": true
    },
    "kernelspec": {
      "name": "python3",
      "display_name": "Python 3"
    },
    "language_info": {
      "name": "python"
    }
  },
  "cells": [
    {
      "cell_type": "markdown",
      "metadata": {
        "id": "view-in-github",
        "colab_type": "text"
      },
      "source": [
        "<a href=\"https://colab.research.google.com/github/ibrahimr/NLP-intro/blob/main/NEW_TOPIC_CLASSIFICATION_.ipynb\" target=\"_parent\"><img src=\"https://colab.research.google.com/assets/colab-badge.svg\" alt=\"Open In Colab\"/></a>"
      ]
    },
    {
      "cell_type": "markdown",
      "source": [
        "### Download dataset:\n",
        "AG News Classification Dataset\n",
        "The AG's news topic classification dataset is constructed by choosing 4 largest classes\n",
        "from the original corpus. Each class contains 30,000 training samples and 1,900 testing\n",
        "samples. The total number of training samples is 120,000 and testing 7,600.\n",
        "https://www.kaggle.com/datasets/amananandrai/ag-news-classification-dataset"
      ],
      "metadata": {
        "id": "HPcBX7P-jEe_"
      }
    },
    {
      "cell_type": "code",
      "execution_count": null,
      "metadata": {
        "id": "91JEudlGMzj5"
      },
      "outputs": [],
      "source": [
        "import pandas as pd\n",
        "import numpy as np\n",
        "from sklearn.model_selection import GridSearchCV\n",
        "from sklearn.linear_model import LogisticRegression\n",
        "from sklearn.tree import DecisionTreeClassifier\n",
        "from sklearn.ensemble import RandomForestClassifier\n",
        "from sklearn.svm import SVC\n",
        "from sklearn.naive_bayes import GaussianNB\n",
        "from sklearn.neighbors import KNeighborsClassifier\n",
        "from sklearn.metrics import confusion_matrix, accuracy_score,precision_score, recall_score, f1_score, classification_report\n",
        "import matplotlib.pyplot as plt\n",
        "import seaborn as sns\n",
        "from sklearn.metrics import classification_report\n",
        "from sklearn.feature_extraction.text import TfidfVectorizer"
      ]
    },
    {
      "cell_type": "markdown",
      "source": [
        "Reading training set"
      ],
      "metadata": {
        "id": "IsUOICEYpKaC"
      }
    },
    {
      "cell_type": "code",
      "source": [],
      "metadata": {
        "id": "Gmhl0GVbjrAk"
      },
      "execution_count": null,
      "outputs": []
    },
    {
      "cell_type": "markdown",
      "source": [
        "Reading Test set"
      ],
      "metadata": {
        "id": "8tSHE5TGpMol"
      }
    },
    {
      "cell_type": "code",
      "source": [],
      "metadata": {
        "id": "dBC0id3zpRRl"
      },
      "execution_count": null,
      "outputs": []
    }
  ]
}