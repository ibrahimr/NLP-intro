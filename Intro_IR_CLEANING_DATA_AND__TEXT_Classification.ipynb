{
  "nbformat": 4,
  "nbformat_minor": 0,
  "metadata": {
    "colab": {
      "provenance": [],
      "authorship_tag": "ABX9TyNEdEyu4EWkuwm5p4ztjUtu",
      "include_colab_link": true
    },
    "kernelspec": {
      "name": "python3",
      "display_name": "Python 3"
    },
    "language_info": {
      "name": "python"
    }
  },
  "cells": [
    {
      "cell_type": "markdown",
      "metadata": {
        "id": "view-in-github",
        "colab_type": "text"
      },
      "source": [
        "<a href=\"https://colab.research.google.com/github/ibrahimr/NLP-intro/blob/main/Intro_IR_CLEANING_DATA_AND__TEXT_Classification.ipynb\" target=\"_parent\"><img src=\"https://colab.research.google.com/assets/colab-badge.svg\" alt=\"Open In Colab\"/></a>"
      ]
    },
    {
      "cell_type": "markdown",
      "source": [
        "# This is LAB Prepared by Dr.**Ragia Ibrahim**\n",
        "---\n",
        "\n"
      ],
      "metadata": {
        "id": "X3m7NyYpcg0p"
      }
    },
    {
      "cell_type": "markdown",
      "source": [
        "## Different Applications of NLP Classification\n",
        "\n",
        "* Sentiment Analysis (Emotion Classification)\n",
        "* Spam Detection (Email & Message Classification)\n",
        "* Topic Classification (News and Document Categorization)\n",
        "\n",
        "##  Main steps of developing NLP for classification\n",
        "\n",
        "* Data Collection\n",
        "* Data Preprocessing\n",
        "* Feature Extraction\n",
        "* Model Selection and Training\n",
        "* Evaluation\n",
        "\n",
        "\n",
        "## The main types of data preprocessing\n",
        "### 1. Text Cleaning: Preprocessing the raw text to remove noise and irrelevant content.\n",
        "* Lowercasing: Convert all text to lowercase to ensure uniformity. Example:\n",
        "\"Hello World\" → \"hello world\"\n",
        "* Removing Punctuation: Eliminating symbols like .,!?@#. Example: \"hello,\n",
        "world!\" → \"hello world\"\n",
        "* Removing Special Characters: Remove non-alphanumeric characters.\n",
        "Example: \"I love #AI & NLP\" → \"I love AI NLP\"\n",
        "* Removing Numbers (optional): If numbers are not meaningful for the task.\n",
        "Example: \"Today is 13th\" → \"Today is\"\n",
        "* Removing URLs, Emails, Mentions: For social media, forums, emails.\n",
        "Example: \"Check http://example.com\" → \"Check\"\n",
        "* Removing HTML tags:\n",
        "## 2. Tokenization: Splitting text into units: words, subwords, or sentences.\n",
        "  - word Tokenization: \"I love NLP.\" → [\"I\", \"love\", \"NLP\", \".\"]\n",
        "  - Sentence Tokenization: \"I love NLP. It is powerful.\" → [\"I love NLP.\", \"It is\n",
        "powerful.\"]\n",
        "## 3.Normalization: Reducing text to a canonical form.\n",
        "-  Stemming: Reduce words to root form (may not be meaningful). Example:\n",
        "-  \"playing\", \"played\", \"plays\" → \"play\" Tool: PorterStemmer, SnowballStemmer\n",
        "Lemmatization: Reduce words to dictionary form using context. Example: \"am\",\n",
        "\"are\", \"is\" → \"be\" Tool: WordNetLemmatizer\n",
        "## 4.Stop Words Removal:\n",
        "-  Eliminate common but insignificant words (e.g., \"the\", \"is\",\"in\").\n",
        " Example: \"This is a book\" → \"book\""
      ],
      "metadata": {
        "id": "vEKbKIzDYCZ4"
      }
    },
    {
      "cell_type": "code",
      "source": [
        "import  re  #Imports Python’s built-in regular expressions module used for pattern matching in text.\n",
        "import nltk # used for natural language processing tasks like tokenization, stemming, etc.\n",
        "import spacy # library for advanced text processing.\n",
        "from nltk.corpus import stopwords # Loads the list of common stopwords\n",
        "from nltk.tokenize import word_tokenize # Imports a function to split text into individual words (tokens).\n",
        "from nltk.stem import PorterStemmer #Imports the PorterStemmer, which is used to reduce words to their root form\n",
        "from nltk.stem import WordNetLemmatizer # reduces words to their base dictionary form (e.g., \"better\" → \"good\")."
      ],
      "metadata": {
        "id": "yyxeCUKfbQdW"
      },
      "execution_count": null,
      "outputs": []
    },
    {
      "cell_type": "code",
      "source": [
        "######### Download NLTK resources (only first timeResource punkt_tab not found.)\n",
        "nltk.download('punkt_tab')\n",
        "nltk.download('stopwords')\n",
        "nltk.download('wordnet')\n"
      ],
      "metadata": {
        "colab": {
          "base_uri": "https://localhost:8080/"
        },
        "id": "1uUA8yiqiREk",
        "outputId": "60d48169-5336-4da0-f4fc-3340faa4b8bf"
      },
      "execution_count": null,
      "outputs": [
        {
          "output_type": "stream",
          "name": "stderr",
          "text": [
            "[nltk_data] Downloading package punkt_tab to /root/nltk_data...\n",
            "[nltk_data]   Unzipping tokenizers/punkt_tab.zip.\n",
            "[nltk_data] Downloading package stopwords to /root/nltk_data...\n",
            "[nltk_data]   Unzipping corpora/stopwords.zip.\n",
            "[nltk_data] Downloading package wordnet to /root/nltk_data...\n"
          ]
        },
        {
          "output_type": "execute_result",
          "data": {
            "text/plain": [
              "True"
            ]
          },
          "metadata": {},
          "execution_count": 13
        }
      ]
    },
    {
      "cell_type": "code",
      "source": [],
      "metadata": {
        "id": "QIuRPWrejF06"
      },
      "execution_count": null,
      "outputs": []
    },
    {
      "cell_type": "markdown",
      "source": [
        "### cleaning text function called \"preprocess_text\" -> returns clean English text\n"
      ],
      "metadata": {
        "id": "NaisredArNNy"
      }
    },
    {
      "cell_type": "code",
      "source": [
        "stemmer = PorterStemmer()\n",
        "stop_words = set(stopwords.words('english'))\n",
        "def preprocess_text(text):\n",
        "  text = text.lower() #\n",
        "  print(text)\n",
        "  text = re.sub(r'http\\S+|www.\\S+', '', text) #Lowercase the text\n",
        "  print(text)\n",
        "  text = re.sub(r'<.*?>', '', text) #Remove HTML Tags\n",
        "  print(text)\n",
        "  text = re.sub(r'[^a-zA-Z\\s]', '', text) #Remove Special Characters, Numbers, and Punctuation\n",
        "  print(text)\n",
        "  tokens = word_tokenize(text) #Tokenization\n",
        "  tokens = [word for word in tokens if word not in stop_words] #Remove Stop Words\n",
        "  stemmed_tokens = [stemmer.stem(word) for word in tokens]  # Stemming\n",
        "  clean_text = ' '.join(stemmed_tokens) #reconstruct Text\n",
        "  return clean_text\n",
        "\n"
      ],
      "metadata": {
        "id": "X9GWskOyrU_g"
      },
      "execution_count": null,
      "outputs": []
    },
    {
      "cell_type": "code",
      "source": [
        "sample_text = \"\"\"\n",
        "Hello! This is a test document. Visit https://example.com for more\n",
        "info.\n",
        "I bought 5 products from Amazon. Let's meet at 5:00 PM. I can't wait\n",
        "to see you! 😊\n",
        "\"\"\"\n",
        "final_text = preprocess_text(sample_text)\n",
        "\n",
        "final_text"
      ],
      "metadata": {
        "colab": {
          "base_uri": "https://localhost:8080/",
          "height": 36
        },
        "id": "HqVecHMWsW4w",
        "outputId": "43663cfe-e624-4a8f-8d3a-c95c4fd080f5"
      },
      "execution_count": null,
      "outputs": [
        {
          "output_type": "execute_result",
          "data": {
            "text/plain": [
              "'hello test document visit info bought product amazon let meet pm cant wait see'"
            ],
            "application/vnd.google.colaboratory.intrinsic+json": {
              "type": "string"
            }
          },
          "metadata": {},
          "execution_count": 4
        }
      ]
    },
    {
      "cell_type": "markdown",
      "source": [
        "# Feature representation"
      ],
      "metadata": {
        "id": "aGATTY33ISfL"
      }
    },
    {
      "cell_type": "markdown",
      "source": [
        "Feature representation means how textual data is converted into a format that machine learning models can process.\n",
        "**Main concepts should be knowen**\n",
        "\n",
        "1.   Bag of Words (BoW)\n",
        "2.   TF-IDF (Term Frequency–Inverse Document Frequency)\n",
        "3. N-grams (Unigrams, Bigrams, Trigrams)\n",
        "\n",
        "\n",
        "\n"
      ],
      "metadata": {
        "id": "7jrU16-_bQT5"
      }
    },
    {
      "cell_type": "code",
      "source": [
        "import pandas as pd\n",
        "import numpy as np\n",
        "from sklearn.model_selection import train_test_split, GridSearchCV\n",
        "from sklearn.preprocessing import StandardScaler, LabelEncoder\n",
        "from sklearn.linear_model import LogisticRegression\n",
        "from sklearn.tree import DecisionTreeClassifier\n",
        "from sklearn.ensemble import RandomForestClassifier\n",
        "from sklearn.svm import SVC\n",
        "from sklearn.naive_bayes import GaussianNB\n",
        "from sklearn.neighbors import KNeighborsClassifier\n",
        "from sklearn.metrics import confusion_matrix, accuracy_score,precision_score, recall_score, f1_score, classification_report\n",
        "import matplotlib.pyplot as plt\n",
        "import seaborn as sns\n",
        "from sklearn.model_selection import GridSearchCV\n",
        "from sklearn.linear_model import LogisticRegression\n",
        "from sklearn.metrics import classification_report\n",
        "from sklearn.feature_extraction.text import CountVectorizer"
      ],
      "metadata": {
        "id": "ydjPn4D7IRvi"
      },
      "execution_count": null,
      "outputs": []
    },
    {
      "cell_type": "markdown",
      "source": [
        "### Reading dataset\n",
        " -  to Upload From Your Local Machine, the following code   will prompt you to choose a file from your local machine. After uploading, you can read it like this (for example, if it's a CSV):\n",
        " - used dataset test.csv (will be provided)"
      ],
      "metadata": {
        "id": "Ny-6IRDrPQYO"
      }
    },
    {
      "cell_type": "code",
      "source": [
        "from google.colab import files\n",
        "uploaded = files.upload()"
      ],
      "metadata": {
        "colab": {
          "base_uri": "https://localhost:8080/",
          "height": 74
        },
        "id": "nOEjaVKRP2j_",
        "outputId": "1c4f177a-3c40-4704-eab8-f9f15bf3c474"
      },
      "execution_count": null,
      "outputs": [
        {
          "output_type": "display_data",
          "data": {
            "text/plain": [
              "<IPython.core.display.HTML object>"
            ],
            "text/html": [
              "\n",
              "     <input type=\"file\" id=\"files-4248c692-401f-43b0-a235-15880b5bb0b4\" name=\"files[]\" multiple disabled\n",
              "        style=\"border:none\" />\n",
              "     <output id=\"result-4248c692-401f-43b0-a235-15880b5bb0b4\">\n",
              "      Upload widget is only available when the cell has been executed in the\n",
              "      current browser session. Please rerun this cell to enable.\n",
              "      </output>\n",
              "      <script>// Copyright 2017 Google LLC\n",
              "//\n",
              "// Licensed under the Apache License, Version 2.0 (the \"License\");\n",
              "// you may not use this file except in compliance with the License.\n",
              "// You may obtain a copy of the License at\n",
              "//\n",
              "//      http://www.apache.org/licenses/LICENSE-2.0\n",
              "//\n",
              "// Unless required by applicable law or agreed to in writing, software\n",
              "// distributed under the License is distributed on an \"AS IS\" BASIS,\n",
              "// WITHOUT WARRANTIES OR CONDITIONS OF ANY KIND, either express or implied.\n",
              "// See the License for the specific language governing permissions and\n",
              "// limitations under the License.\n",
              "\n",
              "/**\n",
              " * @fileoverview Helpers for google.colab Python module.\n",
              " */\n",
              "(function(scope) {\n",
              "function span(text, styleAttributes = {}) {\n",
              "  const element = document.createElement('span');\n",
              "  element.textContent = text;\n",
              "  for (const key of Object.keys(styleAttributes)) {\n",
              "    element.style[key] = styleAttributes[key];\n",
              "  }\n",
              "  return element;\n",
              "}\n",
              "\n",
              "// Max number of bytes which will be uploaded at a time.\n",
              "const MAX_PAYLOAD_SIZE = 100 * 1024;\n",
              "\n",
              "function _uploadFiles(inputId, outputId) {\n",
              "  const steps = uploadFilesStep(inputId, outputId);\n",
              "  const outputElement = document.getElementById(outputId);\n",
              "  // Cache steps on the outputElement to make it available for the next call\n",
              "  // to uploadFilesContinue from Python.\n",
              "  outputElement.steps = steps;\n",
              "\n",
              "  return _uploadFilesContinue(outputId);\n",
              "}\n",
              "\n",
              "// This is roughly an async generator (not supported in the browser yet),\n",
              "// where there are multiple asynchronous steps and the Python side is going\n",
              "// to poll for completion of each step.\n",
              "// This uses a Promise to block the python side on completion of each step,\n",
              "// then passes the result of the previous step as the input to the next step.\n",
              "function _uploadFilesContinue(outputId) {\n",
              "  const outputElement = document.getElementById(outputId);\n",
              "  const steps = outputElement.steps;\n",
              "\n",
              "  const next = steps.next(outputElement.lastPromiseValue);\n",
              "  return Promise.resolve(next.value.promise).then((value) => {\n",
              "    // Cache the last promise value to make it available to the next\n",
              "    // step of the generator.\n",
              "    outputElement.lastPromiseValue = value;\n",
              "    return next.value.response;\n",
              "  });\n",
              "}\n",
              "\n",
              "/**\n",
              " * Generator function which is called between each async step of the upload\n",
              " * process.\n",
              " * @param {string} inputId Element ID of the input file picker element.\n",
              " * @param {string} outputId Element ID of the output display.\n",
              " * @return {!Iterable<!Object>} Iterable of next steps.\n",
              " */\n",
              "function* uploadFilesStep(inputId, outputId) {\n",
              "  const inputElement = document.getElementById(inputId);\n",
              "  inputElement.disabled = false;\n",
              "\n",
              "  const outputElement = document.getElementById(outputId);\n",
              "  outputElement.innerHTML = '';\n",
              "\n",
              "  const pickedPromise = new Promise((resolve) => {\n",
              "    inputElement.addEventListener('change', (e) => {\n",
              "      resolve(e.target.files);\n",
              "    });\n",
              "  });\n",
              "\n",
              "  const cancel = document.createElement('button');\n",
              "  inputElement.parentElement.appendChild(cancel);\n",
              "  cancel.textContent = 'Cancel upload';\n",
              "  const cancelPromise = new Promise((resolve) => {\n",
              "    cancel.onclick = () => {\n",
              "      resolve(null);\n",
              "    };\n",
              "  });\n",
              "\n",
              "  // Wait for the user to pick the files.\n",
              "  const files = yield {\n",
              "    promise: Promise.race([pickedPromise, cancelPromise]),\n",
              "    response: {\n",
              "      action: 'starting',\n",
              "    }\n",
              "  };\n",
              "\n",
              "  cancel.remove();\n",
              "\n",
              "  // Disable the input element since further picks are not allowed.\n",
              "  inputElement.disabled = true;\n",
              "\n",
              "  if (!files) {\n",
              "    return {\n",
              "      response: {\n",
              "        action: 'complete',\n",
              "      }\n",
              "    };\n",
              "  }\n",
              "\n",
              "  for (const file of files) {\n",
              "    const li = document.createElement('li');\n",
              "    li.append(span(file.name, {fontWeight: 'bold'}));\n",
              "    li.append(span(\n",
              "        `(${file.type || 'n/a'}) - ${file.size} bytes, ` +\n",
              "        `last modified: ${\n",
              "            file.lastModifiedDate ? file.lastModifiedDate.toLocaleDateString() :\n",
              "                                    'n/a'} - `));\n",
              "    const percent = span('0% done');\n",
              "    li.appendChild(percent);\n",
              "\n",
              "    outputElement.appendChild(li);\n",
              "\n",
              "    const fileDataPromise = new Promise((resolve) => {\n",
              "      const reader = new FileReader();\n",
              "      reader.onload = (e) => {\n",
              "        resolve(e.target.result);\n",
              "      };\n",
              "      reader.readAsArrayBuffer(file);\n",
              "    });\n",
              "    // Wait for the data to be ready.\n",
              "    let fileData = yield {\n",
              "      promise: fileDataPromise,\n",
              "      response: {\n",
              "        action: 'continue',\n",
              "      }\n",
              "    };\n",
              "\n",
              "    // Use a chunked sending to avoid message size limits. See b/62115660.\n",
              "    let position = 0;\n",
              "    do {\n",
              "      const length = Math.min(fileData.byteLength - position, MAX_PAYLOAD_SIZE);\n",
              "      const chunk = new Uint8Array(fileData, position, length);\n",
              "      position += length;\n",
              "\n",
              "      const base64 = btoa(String.fromCharCode.apply(null, chunk));\n",
              "      yield {\n",
              "        response: {\n",
              "          action: 'append',\n",
              "          file: file.name,\n",
              "          data: base64,\n",
              "        },\n",
              "      };\n",
              "\n",
              "      let percentDone = fileData.byteLength === 0 ?\n",
              "          100 :\n",
              "          Math.round((position / fileData.byteLength) * 100);\n",
              "      percent.textContent = `${percentDone}% done`;\n",
              "\n",
              "    } while (position < fileData.byteLength);\n",
              "  }\n",
              "\n",
              "  // All done.\n",
              "  yield {\n",
              "    response: {\n",
              "      action: 'complete',\n",
              "    }\n",
              "  };\n",
              "}\n",
              "\n",
              "scope.google = scope.google || {};\n",
              "scope.google.colab = scope.google.colab || {};\n",
              "scope.google.colab._files = {\n",
              "  _uploadFiles,\n",
              "  _uploadFilesContinue,\n",
              "};\n",
              "})(self);\n",
              "</script> "
            ]
          },
          "metadata": {}
        },
        {
          "output_type": "stream",
          "name": "stdout",
          "text": [
            "Saving test.csv to test.csv\n"
          ]
        }
      ]
    },
    {
      "cell_type": "code",
      "source": [
        "df = pd.read_csv(\"test.csv\",encoding=\"ISO-8859-1\")\n",
        "df.head()"
      ],
      "metadata": {
        "id": "klO-bxS1AF0T",
        "colab": {
          "base_uri": "https://localhost:8080/",
          "height": 293
        },
        "outputId": "52574d0b-b0e7-4f79-84ea-766d6972bd09"
      },
      "execution_count": null,
      "outputs": [
        {
          "output_type": "execute_result",
          "data": {
            "text/plain": [
              "       textID                                               text sentiment  \\\n",
              "0  f87dea47db  Last session of the day  http://twitpic.com/67ezh   neutral   \n",
              "1  96d74cb729   Shanghai is also really exciting (precisely -...  positive   \n",
              "2  eee518ae67  Recession hit Veronique Branquinho, she has to...  negative   \n",
              "3  01082688c6                                        happy bday!  positive   \n",
              "4  33987a8ee5             http://twitpic.com/4w75p - I like it!!  positive   \n",
              "\n",
              "  Time of Tweet Age of User      Country  Population -2020  Land Area (Km²)  \\\n",
              "0       morning        0-20  Afghanistan        38928346.0         652860.0   \n",
              "1          noon       21-30      Albania         2877797.0          27400.0   \n",
              "2         night       31-45      Algeria        43851044.0        2381740.0   \n",
              "3       morning       46-60      Andorra           77265.0            470.0   \n",
              "4          noon       60-70       Angola        32866272.0        1246700.0   \n",
              "\n",
              "   Density (P/Km²)  \n",
              "0             60.0  \n",
              "1            105.0  \n",
              "2             18.0  \n",
              "3            164.0  \n",
              "4             26.0  "
            ],
            "text/html": [
              "\n",
              "  <div id=\"df-39cad154-6f69-40a8-b75f-674a34787c54\" class=\"colab-df-container\">\n",
              "    <div>\n",
              "<style scoped>\n",
              "    .dataframe tbody tr th:only-of-type {\n",
              "        vertical-align: middle;\n",
              "    }\n",
              "\n",
              "    .dataframe tbody tr th {\n",
              "        vertical-align: top;\n",
              "    }\n",
              "\n",
              "    .dataframe thead th {\n",
              "        text-align: right;\n",
              "    }\n",
              "</style>\n",
              "<table border=\"1\" class=\"dataframe\">\n",
              "  <thead>\n",
              "    <tr style=\"text-align: right;\">\n",
              "      <th></th>\n",
              "      <th>textID</th>\n",
              "      <th>text</th>\n",
              "      <th>sentiment</th>\n",
              "      <th>Time of Tweet</th>\n",
              "      <th>Age of User</th>\n",
              "      <th>Country</th>\n",
              "      <th>Population -2020</th>\n",
              "      <th>Land Area (Km²)</th>\n",
              "      <th>Density (P/Km²)</th>\n",
              "    </tr>\n",
              "  </thead>\n",
              "  <tbody>\n",
              "    <tr>\n",
              "      <th>0</th>\n",
              "      <td>f87dea47db</td>\n",
              "      <td>Last session of the day  http://twitpic.com/67ezh</td>\n",
              "      <td>neutral</td>\n",
              "      <td>morning</td>\n",
              "      <td>0-20</td>\n",
              "      <td>Afghanistan</td>\n",
              "      <td>38928346.0</td>\n",
              "      <td>652860.0</td>\n",
              "      <td>60.0</td>\n",
              "    </tr>\n",
              "    <tr>\n",
              "      <th>1</th>\n",
              "      <td>96d74cb729</td>\n",
              "      <td>Shanghai is also really exciting (precisely -...</td>\n",
              "      <td>positive</td>\n",
              "      <td>noon</td>\n",
              "      <td>21-30</td>\n",
              "      <td>Albania</td>\n",
              "      <td>2877797.0</td>\n",
              "      <td>27400.0</td>\n",
              "      <td>105.0</td>\n",
              "    </tr>\n",
              "    <tr>\n",
              "      <th>2</th>\n",
              "      <td>eee518ae67</td>\n",
              "      <td>Recession hit Veronique Branquinho, she has to...</td>\n",
              "      <td>negative</td>\n",
              "      <td>night</td>\n",
              "      <td>31-45</td>\n",
              "      <td>Algeria</td>\n",
              "      <td>43851044.0</td>\n",
              "      <td>2381740.0</td>\n",
              "      <td>18.0</td>\n",
              "    </tr>\n",
              "    <tr>\n",
              "      <th>3</th>\n",
              "      <td>01082688c6</td>\n",
              "      <td>happy bday!</td>\n",
              "      <td>positive</td>\n",
              "      <td>morning</td>\n",
              "      <td>46-60</td>\n",
              "      <td>Andorra</td>\n",
              "      <td>77265.0</td>\n",
              "      <td>470.0</td>\n",
              "      <td>164.0</td>\n",
              "    </tr>\n",
              "    <tr>\n",
              "      <th>4</th>\n",
              "      <td>33987a8ee5</td>\n",
              "      <td>http://twitpic.com/4w75p - I like it!!</td>\n",
              "      <td>positive</td>\n",
              "      <td>noon</td>\n",
              "      <td>60-70</td>\n",
              "      <td>Angola</td>\n",
              "      <td>32866272.0</td>\n",
              "      <td>1246700.0</td>\n",
              "      <td>26.0</td>\n",
              "    </tr>\n",
              "  </tbody>\n",
              "</table>\n",
              "</div>\n",
              "    <div class=\"colab-df-buttons\">\n",
              "\n",
              "  <div class=\"colab-df-container\">\n",
              "    <button class=\"colab-df-convert\" onclick=\"convertToInteractive('df-39cad154-6f69-40a8-b75f-674a34787c54')\"\n",
              "            title=\"Convert this dataframe to an interactive table.\"\n",
              "            style=\"display:none;\">\n",
              "\n",
              "  <svg xmlns=\"http://www.w3.org/2000/svg\" height=\"24px\" viewBox=\"0 -960 960 960\">\n",
              "    <path d=\"M120-120v-720h720v720H120Zm60-500h600v-160H180v160Zm220 220h160v-160H400v160Zm0 220h160v-160H400v160ZM180-400h160v-160H180v160Zm440 0h160v-160H620v160ZM180-180h160v-160H180v160Zm440 0h160v-160H620v160Z\"/>\n",
              "  </svg>\n",
              "    </button>\n",
              "\n",
              "  <style>\n",
              "    .colab-df-container {\n",
              "      display:flex;\n",
              "      gap: 12px;\n",
              "    }\n",
              "\n",
              "    .colab-df-convert {\n",
              "      background-color: #E8F0FE;\n",
              "      border: none;\n",
              "      border-radius: 50%;\n",
              "      cursor: pointer;\n",
              "      display: none;\n",
              "      fill: #1967D2;\n",
              "      height: 32px;\n",
              "      padding: 0 0 0 0;\n",
              "      width: 32px;\n",
              "    }\n",
              "\n",
              "    .colab-df-convert:hover {\n",
              "      background-color: #E2EBFA;\n",
              "      box-shadow: 0px 1px 2px rgba(60, 64, 67, 0.3), 0px 1px 3px 1px rgba(60, 64, 67, 0.15);\n",
              "      fill: #174EA6;\n",
              "    }\n",
              "\n",
              "    .colab-df-buttons div {\n",
              "      margin-bottom: 4px;\n",
              "    }\n",
              "\n",
              "    [theme=dark] .colab-df-convert {\n",
              "      background-color: #3B4455;\n",
              "      fill: #D2E3FC;\n",
              "    }\n",
              "\n",
              "    [theme=dark] .colab-df-convert:hover {\n",
              "      background-color: #434B5C;\n",
              "      box-shadow: 0px 1px 3px 1px rgba(0, 0, 0, 0.15);\n",
              "      filter: drop-shadow(0px 1px 2px rgba(0, 0, 0, 0.3));\n",
              "      fill: #FFFFFF;\n",
              "    }\n",
              "  </style>\n",
              "\n",
              "    <script>\n",
              "      const buttonEl =\n",
              "        document.querySelector('#df-39cad154-6f69-40a8-b75f-674a34787c54 button.colab-df-convert');\n",
              "      buttonEl.style.display =\n",
              "        google.colab.kernel.accessAllowed ? 'block' : 'none';\n",
              "\n",
              "      async function convertToInteractive(key) {\n",
              "        const element = document.querySelector('#df-39cad154-6f69-40a8-b75f-674a34787c54');\n",
              "        const dataTable =\n",
              "          await google.colab.kernel.invokeFunction('convertToInteractive',\n",
              "                                                    [key], {});\n",
              "        if (!dataTable) return;\n",
              "\n",
              "        const docLinkHtml = 'Like what you see? Visit the ' +\n",
              "          '<a target=\"_blank\" href=https://colab.research.google.com/notebooks/data_table.ipynb>data table notebook</a>'\n",
              "          + ' to learn more about interactive tables.';\n",
              "        element.innerHTML = '';\n",
              "        dataTable['output_type'] = 'display_data';\n",
              "        await google.colab.output.renderOutput(dataTable, element);\n",
              "        const docLink = document.createElement('div');\n",
              "        docLink.innerHTML = docLinkHtml;\n",
              "        element.appendChild(docLink);\n",
              "      }\n",
              "    </script>\n",
              "  </div>\n",
              "\n",
              "\n",
              "    <div id=\"df-275ea7e2-1030-4839-a8f8-8a9ffdcbf6af\">\n",
              "      <button class=\"colab-df-quickchart\" onclick=\"quickchart('df-275ea7e2-1030-4839-a8f8-8a9ffdcbf6af')\"\n",
              "                title=\"Suggest charts\"\n",
              "                style=\"display:none;\">\n",
              "\n",
              "<svg xmlns=\"http://www.w3.org/2000/svg\" height=\"24px\"viewBox=\"0 0 24 24\"\n",
              "     width=\"24px\">\n",
              "    <g>\n",
              "        <path d=\"M19 3H5c-1.1 0-2 .9-2 2v14c0 1.1.9 2 2 2h14c1.1 0 2-.9 2-2V5c0-1.1-.9-2-2-2zM9 17H7v-7h2v7zm4 0h-2V7h2v10zm4 0h-2v-4h2v4z\"/>\n",
              "    </g>\n",
              "</svg>\n",
              "      </button>\n",
              "\n",
              "<style>\n",
              "  .colab-df-quickchart {\n",
              "      --bg-color: #E8F0FE;\n",
              "      --fill-color: #1967D2;\n",
              "      --hover-bg-color: #E2EBFA;\n",
              "      --hover-fill-color: #174EA6;\n",
              "      --disabled-fill-color: #AAA;\n",
              "      --disabled-bg-color: #DDD;\n",
              "  }\n",
              "\n",
              "  [theme=dark] .colab-df-quickchart {\n",
              "      --bg-color: #3B4455;\n",
              "      --fill-color: #D2E3FC;\n",
              "      --hover-bg-color: #434B5C;\n",
              "      --hover-fill-color: #FFFFFF;\n",
              "      --disabled-bg-color: #3B4455;\n",
              "      --disabled-fill-color: #666;\n",
              "  }\n",
              "\n",
              "  .colab-df-quickchart {\n",
              "    background-color: var(--bg-color);\n",
              "    border: none;\n",
              "    border-radius: 50%;\n",
              "    cursor: pointer;\n",
              "    display: none;\n",
              "    fill: var(--fill-color);\n",
              "    height: 32px;\n",
              "    padding: 0;\n",
              "    width: 32px;\n",
              "  }\n",
              "\n",
              "  .colab-df-quickchart:hover {\n",
              "    background-color: var(--hover-bg-color);\n",
              "    box-shadow: 0 1px 2px rgba(60, 64, 67, 0.3), 0 1px 3px 1px rgba(60, 64, 67, 0.15);\n",
              "    fill: var(--button-hover-fill-color);\n",
              "  }\n",
              "\n",
              "  .colab-df-quickchart-complete:disabled,\n",
              "  .colab-df-quickchart-complete:disabled:hover {\n",
              "    background-color: var(--disabled-bg-color);\n",
              "    fill: var(--disabled-fill-color);\n",
              "    box-shadow: none;\n",
              "  }\n",
              "\n",
              "  .colab-df-spinner {\n",
              "    border: 2px solid var(--fill-color);\n",
              "    border-color: transparent;\n",
              "    border-bottom-color: var(--fill-color);\n",
              "    animation:\n",
              "      spin 1s steps(1) infinite;\n",
              "  }\n",
              "\n",
              "  @keyframes spin {\n",
              "    0% {\n",
              "      border-color: transparent;\n",
              "      border-bottom-color: var(--fill-color);\n",
              "      border-left-color: var(--fill-color);\n",
              "    }\n",
              "    20% {\n",
              "      border-color: transparent;\n",
              "      border-left-color: var(--fill-color);\n",
              "      border-top-color: var(--fill-color);\n",
              "    }\n",
              "    30% {\n",
              "      border-color: transparent;\n",
              "      border-left-color: var(--fill-color);\n",
              "      border-top-color: var(--fill-color);\n",
              "      border-right-color: var(--fill-color);\n",
              "    }\n",
              "    40% {\n",
              "      border-color: transparent;\n",
              "      border-right-color: var(--fill-color);\n",
              "      border-top-color: var(--fill-color);\n",
              "    }\n",
              "    60% {\n",
              "      border-color: transparent;\n",
              "      border-right-color: var(--fill-color);\n",
              "    }\n",
              "    80% {\n",
              "      border-color: transparent;\n",
              "      border-right-color: var(--fill-color);\n",
              "      border-bottom-color: var(--fill-color);\n",
              "    }\n",
              "    90% {\n",
              "      border-color: transparent;\n",
              "      border-bottom-color: var(--fill-color);\n",
              "    }\n",
              "  }\n",
              "</style>\n",
              "\n",
              "      <script>\n",
              "        async function quickchart(key) {\n",
              "          const quickchartButtonEl =\n",
              "            document.querySelector('#' + key + ' button');\n",
              "          quickchartButtonEl.disabled = true;  // To prevent multiple clicks.\n",
              "          quickchartButtonEl.classList.add('colab-df-spinner');\n",
              "          try {\n",
              "            const charts = await google.colab.kernel.invokeFunction(\n",
              "                'suggestCharts', [key], {});\n",
              "          } catch (error) {\n",
              "            console.error('Error during call to suggestCharts:', error);\n",
              "          }\n",
              "          quickchartButtonEl.classList.remove('colab-df-spinner');\n",
              "          quickchartButtonEl.classList.add('colab-df-quickchart-complete');\n",
              "        }\n",
              "        (() => {\n",
              "          let quickchartButtonEl =\n",
              "            document.querySelector('#df-275ea7e2-1030-4839-a8f8-8a9ffdcbf6af button');\n",
              "          quickchartButtonEl.style.display =\n",
              "            google.colab.kernel.accessAllowed ? 'block' : 'none';\n",
              "        })();\n",
              "      </script>\n",
              "    </div>\n",
              "\n",
              "    </div>\n",
              "  </div>\n"
            ],
            "application/vnd.google.colaboratory.intrinsic+json": {
              "type": "dataframe",
              "variable_name": "df",
              "summary": "{\n  \"name\": \"df\",\n  \"rows\": 4815,\n  \"fields\": [\n    {\n      \"column\": \"textID\",\n      \"properties\": {\n        \"dtype\": \"string\",\n        \"num_unique_values\": 3534,\n        \"samples\": [\n          \"142108215\",\n          \"fb08563a7b\",\n          \"9a2c6ae21c\"\n        ],\n        \"semantic_type\": \"\",\n        \"description\": \"\"\n      }\n    },\n    {\n      \"column\": \"text\",\n      \"properties\": {\n        \"dtype\": \"string\",\n        \"num_unique_values\": 3534,\n        \"samples\": [\n          \" Thank you so much phaoloo !!!!\",\n          \"Midnight ice-cream weather! So **** bored\",\n          \"Ohh i forgot to tell you last night that when i was a alton towers i touched a shark  it was amazing !!!! it was nt a massive one tho\"\n        ],\n        \"semantic_type\": \"\",\n        \"description\": \"\"\n      }\n    },\n    {\n      \"column\": \"sentiment\",\n      \"properties\": {\n        \"dtype\": \"category\",\n        \"num_unique_values\": 3,\n        \"samples\": [\n          \"neutral\",\n          \"positive\",\n          \"negative\"\n        ],\n        \"semantic_type\": \"\",\n        \"description\": \"\"\n      }\n    },\n    {\n      \"column\": \"Time of Tweet\",\n      \"properties\": {\n        \"dtype\": \"category\",\n        \"num_unique_values\": 3,\n        \"samples\": [\n          \"morning\",\n          \"noon\",\n          \"night\"\n        ],\n        \"semantic_type\": \"\",\n        \"description\": \"\"\n      }\n    },\n    {\n      \"column\": \"Age of User\",\n      \"properties\": {\n        \"dtype\": \"category\",\n        \"num_unique_values\": 6,\n        \"samples\": [\n          \"0-20\",\n          \"21-30\",\n          \"70-100\"\n        ],\n        \"semantic_type\": \"\",\n        \"description\": \"\"\n      }\n    },\n    {\n      \"column\": \"Country\",\n      \"properties\": {\n        \"dtype\": \"category\",\n        \"num_unique_values\": 195,\n        \"samples\": [\n          \"Philippines\",\n          \"Belgium\",\n          \"Sierra Leone\"\n        ],\n        \"semantic_type\": \"\",\n        \"description\": \"\"\n      }\n    },\n    {\n      \"column\": \"Population -2020\",\n      \"properties\": {\n        \"dtype\": \"number\",\n        \"std\": 146875664.36244348,\n        \"min\": 801.0,\n        \"max\": 1439323776.0,\n        \"num_unique_values\": 195,\n        \"samples\": [\n          109581078.0,\n          11589623.0,\n          7976983.0\n        ],\n        \"semantic_type\": \"\",\n        \"description\": \"\"\n      }\n    },\n    {\n      \"column\": \"Land Area (Km\\u00b2)\",\n      \"properties\": {\n        \"dtype\": \"number\",\n        \"std\": 1839133.911427382,\n        \"min\": 0.0,\n        \"max\": 16376870.0,\n        \"num_unique_values\": 193,\n        \"samples\": [\n          2267050.0,\n          1280000.0,\n          100250.0\n        ],\n        \"semantic_type\": \"\",\n        \"description\": \"\"\n      }\n    },\n    {\n      \"column\": \"Density (P/Km\\u00b2)\",\n      \"properties\": {\n        \"dtype\": \"number\",\n        \"std\": 1967.012367010644,\n        \"min\": 2.0,\n        \"max\": 26337.0,\n        \"num_unique_values\": 136,\n        \"samples\": [\n          400.0,\n          71.0,\n          331.0\n        ],\n        \"semantic_type\": \"\",\n        \"description\": \"\"\n      }\n    }\n  ]\n}"
            }
          },
          "metadata": {},
          "execution_count": 3
        }
      ]
    },
    {
      "cell_type": "code",
      "source": [
        "df['sentiment'].value_counts()"
      ],
      "metadata": {
        "colab": {
          "base_uri": "https://localhost:8080/",
          "height": 209
        },
        "id": "w9alsh21Q6iO",
        "outputId": "9e3b16eb-f002-43c5-e483-cd67aa65aa60"
      },
      "execution_count": null,
      "outputs": [
        {
          "output_type": "execute_result",
          "data": {
            "text/plain": [
              "sentiment\n",
              "neutral     1430\n",
              "positive    1103\n",
              "negative    1001\n",
              "Name: count, dtype: int64"
            ],
            "text/html": [
              "<div>\n",
              "<style scoped>\n",
              "    .dataframe tbody tr th:only-of-type {\n",
              "        vertical-align: middle;\n",
              "    }\n",
              "\n",
              "    .dataframe tbody tr th {\n",
              "        vertical-align: top;\n",
              "    }\n",
              "\n",
              "    .dataframe thead th {\n",
              "        text-align: right;\n",
              "    }\n",
              "</style>\n",
              "<table border=\"1\" class=\"dataframe\">\n",
              "  <thead>\n",
              "    <tr style=\"text-align: right;\">\n",
              "      <th></th>\n",
              "      <th>count</th>\n",
              "    </tr>\n",
              "    <tr>\n",
              "      <th>sentiment</th>\n",
              "      <th></th>\n",
              "    </tr>\n",
              "  </thead>\n",
              "  <tbody>\n",
              "    <tr>\n",
              "      <th>neutral</th>\n",
              "      <td>1430</td>\n",
              "    </tr>\n",
              "    <tr>\n",
              "      <th>positive</th>\n",
              "      <td>1103</td>\n",
              "    </tr>\n",
              "    <tr>\n",
              "      <th>negative</th>\n",
              "      <td>1001</td>\n",
              "    </tr>\n",
              "  </tbody>\n",
              "</table>\n",
              "</div><br><label><b>dtype:</b> int64</label>"
            ]
          },
          "metadata": {},
          "execution_count": 4
        }
      ]
    },
    {
      "cell_type": "code",
      "source": [
        "stemmer = PorterStemmer()\n",
        "# Stop words list\n",
        "stop_words = set(stopwords.words('english'))\n",
        "df['clean'] = df['text'].apply(lambda x: x.lower() if isinstance(x, str) else \"\") #lower\n",
        "def preprocess_text(text):\n",
        "  text = re.sub(r'http\\S+|www.\\S+', '', text) #Lowercase the text\n",
        "  text = re.sub(r'<.*?>', '', text) #Remove HTML Tags\n",
        "  text = re.sub(r'\\W+', ' ', text)\n",
        "  text = re.sub(r'[^a-zA-Z\\s]', '', text) #Remove Special Characters, Numbers, and Punctuation\n",
        "  #text = text.lower()\n",
        "  tokens = word_tokenize(text) #Tokenization\n",
        "  tokens = [word for word in tokens if word not in stop_words] #Remove Stop Words\n",
        "  stemmed_tokens = [stemmer.stem(word) for word in tokens]  # Stemming\n",
        "  clean_text = ' '.join(stemmed_tokens) #reconstruct Text\n",
        "  return clean_text"
      ],
      "metadata": {
        "id": "aKwmqRCnRMrG"
      },
      "execution_count": null,
      "outputs": []
    },
    {
      "cell_type": "markdown",
      "source": [
        "## Cleaning dataset"
      ],
      "metadata": {
        "id": "tFvit_7ES9c8"
      }
    },
    {
      "cell_type": "code",
      "source": [
        "df = df.dropna()  #remove na data\n",
        "df[\"clean_text\"] = df[\"text\"].apply(preprocess_text) #pply a function along an axis (rows or columns) of a DataFrame\n",
        "df['clean_text']"
      ],
      "metadata": {
        "colab": {
          "base_uri": "https://localhost:8080/",
          "height": 458
        },
        "id": "_eLSqb1GSHlN",
        "outputId": "bce8d2ee-4804-4c26-d40c-e8e3e191ea34"
      },
      "execution_count": null,
      "outputs": [
        {
          "output_type": "execute_result",
          "data": {
            "text/plain": [
              "0                                        last session day\n",
              "1       shanghai also realli excit precis skyscrap gal...\n",
              "2       recess hit veroniqu branquinho quit compani shame\n",
              "3                                              happi bday\n",
              "4                                                  i like\n",
              "                              ...                        \n",
              "3529                                    im tire sleep tri\n",
              "3530    all alon old hous thank net keep aliv kick who...\n",
              "3531    i know mean my littl dog sink depress want mov...\n",
              "3532          sutra next youtub video gon na i love video\n",
              "3533                               omgssh ang cute ng bbi\n",
              "Name: clean_text, Length: 3534, dtype: object"
            ],
            "text/html": [
              "<div>\n",
              "<style scoped>\n",
              "    .dataframe tbody tr th:only-of-type {\n",
              "        vertical-align: middle;\n",
              "    }\n",
              "\n",
              "    .dataframe tbody tr th {\n",
              "        vertical-align: top;\n",
              "    }\n",
              "\n",
              "    .dataframe thead th {\n",
              "        text-align: right;\n",
              "    }\n",
              "</style>\n",
              "<table border=\"1\" class=\"dataframe\">\n",
              "  <thead>\n",
              "    <tr style=\"text-align: right;\">\n",
              "      <th></th>\n",
              "      <th>clean_text</th>\n",
              "    </tr>\n",
              "  </thead>\n",
              "  <tbody>\n",
              "    <tr>\n",
              "      <th>0</th>\n",
              "      <td>last session day</td>\n",
              "    </tr>\n",
              "    <tr>\n",
              "      <th>1</th>\n",
              "      <td>shanghai also realli excit precis skyscrap gal...</td>\n",
              "    </tr>\n",
              "    <tr>\n",
              "      <th>2</th>\n",
              "      <td>recess hit veroniqu branquinho quit compani shame</td>\n",
              "    </tr>\n",
              "    <tr>\n",
              "      <th>3</th>\n",
              "      <td>happi bday</td>\n",
              "    </tr>\n",
              "    <tr>\n",
              "      <th>4</th>\n",
              "      <td>i like</td>\n",
              "    </tr>\n",
              "    <tr>\n",
              "      <th>...</th>\n",
              "      <td>...</td>\n",
              "    </tr>\n",
              "    <tr>\n",
              "      <th>3529</th>\n",
              "      <td>im tire sleep tri</td>\n",
              "    </tr>\n",
              "    <tr>\n",
              "      <th>3530</th>\n",
              "      <td>all alon old hous thank net keep aliv kick who...</td>\n",
              "    </tr>\n",
              "    <tr>\n",
              "      <th>3531</th>\n",
              "      <td>i know mean my littl dog sink depress want mov...</td>\n",
              "    </tr>\n",
              "    <tr>\n",
              "      <th>3532</th>\n",
              "      <td>sutra next youtub video gon na i love video</td>\n",
              "    </tr>\n",
              "    <tr>\n",
              "      <th>3533</th>\n",
              "      <td>omgssh ang cute ng bbi</td>\n",
              "    </tr>\n",
              "  </tbody>\n",
              "</table>\n",
              "<p>3534 rows × 1 columns</p>\n",
              "</div><br><label><b>dtype:</b> object</label>"
            ]
          },
          "metadata": {},
          "execution_count": 34
        }
      ]
    },
    {
      "cell_type": "markdown",
      "source": [
        "## Define features and target variable"
      ],
      "metadata": {
        "id": "JXIOdw8Vg-7C"
      }
    },
    {
      "cell_type": "code",
      "source": [
        "X = df['clean_text'].values\n",
        "y = df['sentiment'].values"
      ],
      "metadata": {
        "id": "o4Ew8_XMYY5Y"
      },
      "execution_count": null,
      "outputs": []
    },
    {
      "cell_type": "markdown",
      "source": [
        "## to use classifiers first\n",
        "- represent tokens (text) firstly ...as zeros and ones (boolean)  in this modle\n",
        "- splitting data to training data that we will create the model with and test data to evaluate the created model\n",
        "-create funciton that will be used to evaluate models after applying the classifier"
      ],
      "metadata": {
        "id": "ohKySHHhhdcl"
      }
    },
    {
      "cell_type": "code",
      "source": [
        "X"
      ],
      "metadata": {
        "colab": {
          "base_uri": "https://localhost:8080/"
        },
        "id": "CmY_d0qXhNLk",
        "outputId": "39b26841-af6d-4e10-bfef-f8a4397ba145"
      },
      "execution_count": null,
      "outputs": [
        {
          "output_type": "execute_result",
          "data": {
            "text/plain": [
              "array(['last session day',\n",
              "       'shanghai also realli excit precis skyscrap galor good tweep china sh bj',\n",
              "       'recess hit veroniqu branquinho quit compani shame', ...,\n",
              "       'i know mean my littl dog sink depress want move someplac tropic',\n",
              "       'sutra next youtub video gon na i love video',\n",
              "       'omgssh ang cute ng bbi'], dtype=object)"
            ]
          },
          "metadata": {},
          "execution_count": 37
        }
      ]
    },
    {
      "cell_type": "code",
      "source": [
        "y"
      ],
      "metadata": {
        "colab": {
          "base_uri": "https://localhost:8080/"
        },
        "id": "1GL82LYnhpqC",
        "outputId": "70b15b2b-73d3-42b9-839d-af656f43f82c"
      },
      "execution_count": null,
      "outputs": [
        {
          "output_type": "execute_result",
          "data": {
            "text/plain": [
              "array(['neutral', 'positive', 'negative', ..., 'negative', 'positive',\n",
              "       'positive'], dtype=object)"
            ]
          },
          "metadata": {},
          "execution_count": 39
        }
      ]
    },
    {
      "cell_type": "code",
      "source": [
        "vectorizer = CountVectorizer()\n",
        "X = vectorizer.fit_transform(X)"
      ],
      "metadata": {
        "id": "U6uKULz5hsEZ"
      },
      "execution_count": null,
      "outputs": []
    },
    {
      "cell_type": "code",
      "source": [
        "# Split data into training and testing sets\n",
        "X_train, X_test, y_train, y_test = train_test_split( X, y,\n",
        "test_size=0.30, random_state=42, stratify=y)"
      ],
      "metadata": {
        "id": "8K9An9i0hzG1"
      },
      "execution_count": null,
      "outputs": []
    },
    {
      "cell_type": "markdown",
      "source": [
        "### Model evaluation"
      ],
      "metadata": {
        "id": "kr-GyQPnjenv"
      }
    },
    {
      "cell_type": "code",
      "source": [
        "def evaluate_model(model_name, y_true, y_pred):\n",
        "  # Calculate metrics\n",
        "  accuracy = accuracy_score(y_true, y_pred)\n",
        "  precision = precision_score(y_true, y_pred, average='weighted')\n",
        "  recall = recall_score(y_true, y_pred, average='weighted')\n",
        "  f1 = f1_score(y_true, y_pred, average='weighted')\n",
        "  cm = confusion_matrix(y_true, y_pred)\n",
        "  # Create a report\n",
        "  report = classification_report(y_true, y_pred)\n",
        "  # Output results\n",
        "  metrics = {'Model Name': model_name,'Accuracy': accuracy,'Precision': precision,'Recall': recall,\n",
        "             'F1 Score': f1,'Classification Report': report\n",
        "             }\n",
        "  # Plot Confusion Matrix\n",
        "  plt.figure(figsize=(4, 4))\n",
        "  sns.heatmap(cm, annot=True, fmt='d', cmap='Blues', cbar=False,\n",
        "              xticklabels=np.unique(y_true),\n",
        "              yticklabels=np.unique(y_true))\n",
        "  plt.title(f'Confusion Matrix for {model_name}')\n",
        "  plt.xlabel('Predicted Label')\n",
        "  plt.ylabel('True Label')\n",
        "  plt.show()\n",
        "  return metrics\n"
      ],
      "metadata": {
        "id": "EWNIx6kHjbaI"
      },
      "execution_count": null,
      "outputs": []
    },
    {
      "cell_type": "markdown",
      "source": [
        "### Random Forest Classifier\n"
      ],
      "metadata": {
        "id": "CZ0MLpkioB9A"
      }
    },
    {
      "cell_type": "code",
      "source": [
        "# Define the Random Forest Classifier\n",
        "rf_classifier = RandomForestClassifier(random_state=42)\n",
        "# Define the hyperparameters for grid search\n",
        "param_grid = {\n",
        "'n_estimators': [100, 200, 300],\n",
        "'max_depth': [None, 10, 20, 30],\n",
        "}\n",
        "# Initialize GridSearchCV\n",
        "grid_search = GridSearchCV(estimator=rf_classifier,\n",
        "param_grid=param_grid, cv=5, scoring='accuracy', n_jobs=-1)\n",
        "# Fit the grid search to the data\n",
        "grid_search.fit(X_train, y_train)\n",
        "# Get the best estimator from grid search\n",
        "best_rf_classifier = grid_search.best_estimator_\n",
        "# Make predictions using the best model\n",
        "y_pred = best_rf_classifier.predict(X_test)\n",
        "# Evaluate the model\n",
        "evaluation_results = evaluate_model('RandomForestClassifier', y_test,y_pred)\n",
        "# Print the evaluation results\n",
        "for key, value in evaluation_results.items():\n",
        "  if key == 'Classification Report':\n",
        "    print(value) # Print report separately for better readability\n",
        "  else:\n",
        "    print(f\"{key}: {value:.4f}\" if isinstance(value, float) else\n",
        "  f\"{key}: \\n{value}\")\n",
        "# Print the best parameters found by grid search\n",
        "print(\"\\nBest hyperparameters found by GridSearchCV:\")\n",
        "print(grid_search.best_params_)"
      ],
      "metadata": {
        "colab": {
          "base_uri": "https://localhost:8080/",
          "height": 752
        },
        "id": "s3TjY9rJoHGs",
        "outputId": "a2602122-0a9d-4483-f380-5ddd6fd18421"
      },
      "execution_count": null,
      "outputs": [
        {
          "output_type": "display_data",
          "data": {
            "text/plain": [
              "<Figure size 400x400 with 1 Axes>"
            ],
            "image/png": "[encoded data removed]"
          },
          "metadata": {}
        },
        {
          "output_type": "stream",
          "name": "stdout",
          "text": [
            "Model Name: \n",
            "RandomForestClassifier\n",
            "Accuracy: 0.6569\n",
            "Precision: 0.6624\n",
            "Recall: 0.6569\n",
            "F1 Score: 0.6553\n",
            "              precision    recall  f1-score   support\n",
            "\n",
            "    negative       0.66      0.54      0.59       301\n",
            "     neutral       0.61      0.73      0.67       429\n",
            "    positive       0.73      0.66      0.70       331\n",
            "\n",
            "    accuracy                           0.66      1061\n",
            "   macro avg       0.67      0.65      0.65      1061\n",
            "weighted avg       0.66      0.66      0.66      1061\n",
            "\n",
            "\n",
            "Best hyperparameters found by GridSearchCV:\n",
            "{'max_depth': None, 'n_estimators': 300}\n"
          ]
        }
      ]
    },
    {
      "cell_type": "markdown",
      "source": [
        "## LogisticRegression"
      ],
      "metadata": {
        "id": "6WRHH5siqO7K"
      }
    },
    {
      "cell_type": "code",
      "source": [
        "# Define the Logistic Regression model\n",
        "LR = LogisticRegression(random_state=42)\n",
        "# Define the hyperparameters for grid search\n",
        "param_grid = {\n",
        "'solver': ['liblinear', 'lbfgs'],\n",
        "# Solver type\n",
        "}\n",
        "# Initialize GridSearchCV\n",
        "grid_search = GridSearchCV(estimator=LR, param_grid=param_grid, cv=5,\n",
        "scoring='accuracy', n_jobs=-1)\n",
        "# Fit the grid search to the data\n",
        "grid_search.fit(X_train, y_train)\n",
        "# Get the best estimator from grid search\n",
        "best_LR = grid_search.best_estimator_\n",
        "# Make predictions using the best model\n",
        "y_pred = best_LR.predict(X_test)\n",
        "# Evaluate the model\n",
        "evaluation_results = evaluate_model('LogisticRegression', y_test,y_pred)\n",
        "# Print the evaluation results\n",
        "for key, value in evaluation_results.items():\n",
        "  if key == 'Classification Report':\n",
        "    print(value) # Print report separately for better readability\n",
        "  else:\n",
        "    print(f\"{key}: {value:.4f}\" if isinstance(value, float) else\n",
        "  f\"{key}: \\n{value}\")\n",
        "# Print the best hyperparameters found by grid search\n",
        "print(\"\\nBest hyperparameters found by GridSearchCV:\")\n",
        "print(grid_search.best_params_)"
      ],
      "metadata": {
        "colab": {
          "base_uri": "https://localhost:8080/",
          "height": 752
        },
        "id": "WYDgVpU-omkG",
        "outputId": "6f192430-8024-470b-cfac-1bf11851eb02"
      },
      "execution_count": null,
      "outputs": [
        {
          "output_type": "display_data",
          "data": {
            "text/plain": [
              "<Figure size 400x400 with 1 Axes>"
            ],
            "image/png": "[encoded data removed]"
          },
          "metadata": {}
        },
        {
          "output_type": "stream",
          "name": "stdout",
          "text": [
            "Model Name: \n",
            "LogisticRegression\n",
            "Accuracy: 0.6230\n",
            "Precision: 0.6305\n",
            "Recall: 0.6230\n",
            "F1 Score: 0.6230\n",
            "              precision    recall  f1-score   support\n",
            "\n",
            "    negative       0.65      0.53      0.59       301\n",
            "     neutral       0.57      0.67      0.61       429\n",
            "    positive       0.70      0.64      0.67       331\n",
            "\n",
            "    accuracy                           0.62      1061\n",
            "   macro avg       0.64      0.62      0.62      1061\n",
            "weighted avg       0.63      0.62      0.62      1061\n",
            "\n",
            "\n",
            "Best hyperparameters found by GridSearchCV:\n",
            "{'solver': 'lbfgs'}\n"
          ]
        }
      ]
    },
    {
      "cell_type": "markdown",
      "source": [
        "### Support Vector Machine"
      ],
      "metadata": {
        "id": "2CO6QqatrC8Y"
      }
    },
    {
      "cell_type": "code",
      "source": [
        "SVM = SVC(random_state=42)\n",
        "# Define the hyperparameters for grid search\n",
        "param_grid = {\n",
        "    'kernel': ['linear', 'rbf', 'poly'],\n",
        "# Kernel type\n",
        "}\n",
        "# Initialize GridSearchCV\n",
        "grid_search = GridSearchCV(estimator=SVM, param_grid=param_grid, cv=5,\n",
        "scoring='accuracy', n_jobs=-1)\n",
        "# Fit the grid search to the data\n",
        "grid_search.fit(X_train, y_train)\n",
        "# Get the best estimator from grid search\n",
        "best_SVM = grid_search.best_estimator_\n",
        "# Make predictions using the best model\n",
        "y_pred = best_SVM.predict(X_test)\n",
        "# Evaluate the model\n",
        "evaluation_results = evaluate_model('Support Vector Machine', y_test,\n",
        "y_pred)\n",
        "# Print the evaluation results\n",
        "for key, value in evaluation_results.items():\n",
        "  if key == 'Classification Report':\n",
        "    print(value) # Print report separately for better readability\n",
        "  else:\n",
        "    print(f\"{key}: {value:.4f}\" if isinstance(value, float) else\n",
        "  f\"{key}: \\n{value}\")\n",
        "# Print the best hyperparameters found by grid search\n",
        "print(\"\\nBest hyperparameters found by GridSearchCV:\")\n",
        "print(grid_search.best_params_)"
      ],
      "metadata": {
        "colab": {
          "base_uri": "https://localhost:8080/",
          "height": 752
        },
        "id": "JQFsEPk4qnaF",
        "outputId": "61ddecae-f21e-4fab-8e39-672ab1fe991c"
      },
      "execution_count": null,
      "outputs": [
        {
          "output_type": "display_data",
          "data": {
            "text/plain": [
              "<Figure size 400x400 with 1 Axes>"
            ],
            "image/png": "[encoded data removed]"
          },
          "metadata": {}
        },
        {
          "output_type": "stream",
          "name": "stdout",
          "text": [
            "Model Name: \n",
            "Support Vector Machine\n",
            "Accuracy: 0.6277\n",
            "Precision: 0.6300\n",
            "Recall: 0.6277\n",
            "F1 Score: 0.6279\n",
            "              precision    recall  f1-score   support\n",
            "\n",
            "    negative       0.60      0.55      0.57       301\n",
            "     neutral       0.59      0.65      0.62       429\n",
            "    positive       0.71      0.67      0.69       331\n",
            "\n",
            "    accuracy                           0.63      1061\n",
            "   macro avg       0.63      0.62      0.63      1061\n",
            "weighted avg       0.63      0.63      0.63      1061\n",
            "\n",
            "\n",
            "Best hyperparameters found by GridSearchCV:\n",
            "{'kernel': 'linear'}\n"
          ]
        }
      ]
    },
    {
      "cell_type": "code",
      "source": [],
      "metadata": {
        "id": "iiQHD8oIreZS"
      },
      "execution_count": null,
      "outputs": []
    }
  ]
}